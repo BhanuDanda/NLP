{
  "nbformat": 4,
  "nbformat_minor": 0,
  "metadata": {
    "colab": {
      "provenance": [],
      "authorship_tag": "ABX9TyOZLR2Va5KvtT6+COB87nBU",
      "include_colab_link": true
    },
    "kernelspec": {
      "name": "python3",
      "display_name": "Python 3"
    },
    "language_info": {
      "name": "python"
    }
  },
  "cells": [
    {
      "cell_type": "markdown",
      "metadata": {
        "id": "view-in-github",
        "colab_type": "text"
      },
      "source": [
        "<a href=\"https://colab.research.google.com/github/BhanuDanda/NLP/blob/main/15-09-2025.ipynb\" target=\"_parent\"><img src=\"https://colab.research.google.com/assets/colab-badge.svg\" alt=\"Open In Colab\"/></a>"
      ]
    },
    {
      "cell_type": "code",
      "execution_count": 7,
      "metadata": {
        "colab": {
          "base_uri": "https://localhost:8080/"
        },
        "id": "JOxCEUY841jr",
        "outputId": "3657667e-6530-4d69-d4a1-01401d85c7fa"
      },
      "outputs": [
        {
          "output_type": "stream",
          "name": "stderr",
          "text": [
            "[nltk_data] Downloading package stopwords to /root/nltk_data...\n",
            "[nltk_data]   Package stopwords is already up-to-date!\n"
          ]
        },
        {
          "output_type": "stream",
          "name": "stdout",
          "text": [
            "\u001b[1m285/285\u001b[0m \u001b[32m━━━━━━━━━━━━━━━━━━━━\u001b[0m\u001b[37m\u001b[0m \u001b[1m2s\u001b[0m 6ms/step\n",
            "\u001b[1m72/72\u001b[0m \u001b[32m━━━━━━━━━━━━━━━━━━━━\u001b[0m\u001b[37m\u001b[0m \u001b[1m0s\u001b[0m 6ms/step\n",
            "Unigram ANN -> Train Acc: 0.9839, Test Acc: 0.8602\n",
            "\u001b[1m285/285\u001b[0m \u001b[32m━━━━━━━━━━━━━━━━━━━━\u001b[0m\u001b[37m\u001b[0m \u001b[1m3s\u001b[0m 10ms/step\n",
            "\u001b[1m72/72\u001b[0m \u001b[32m━━━━━━━━━━━━━━━━━━━━\u001b[0m\u001b[37m\u001b[0m \u001b[1m0s\u001b[0m 6ms/step\n",
            "Bigram ANN -> Train Acc: 0.9847, Test Acc: 0.8650\n",
            "\u001b[1m285/285\u001b[0m \u001b[32m━━━━━━━━━━━━━━━━━━━━\u001b[0m\u001b[37m\u001b[0m \u001b[1m3s\u001b[0m 10ms/step\n",
            "\u001b[1m72/72\u001b[0m \u001b[32m━━━━━━━━━━━━━━━━━━━━\u001b[0m\u001b[37m\u001b[0m \u001b[1m0s\u001b[0m 6ms/step\n",
            "Trigram ANN -> Train Acc: 0.9839, Test Acc: 0.8707\n",
            "Unigram LSTM -> Train Acc: 0.9556, Test Acc: 0.8826\n",
            "Bigram LSTM -> Train Acc: 0.9561, Test Acc: 0.8795\n",
            "Trigram LSTM -> Train Acc: 0.9579, Test Acc: 0.8835\n",
            "\n",
            "=== ANN Accuracy ===\n",
            "Unigram: Train=0.9839, Test=0.8602\n",
            "Bigram: Train=0.9847, Test=0.8650\n",
            "Trigram: Train=0.9839, Test=0.8707\n",
            "\n",
            "=== LSTM Accuracy ===\n",
            "Unigram: Train=0.9556, Test=0.8826\n",
            "Bigram: Train=0.9561, Test=0.8795\n",
            "Trigram: Train=0.9579, Test=0.8835\n",
            "\n",
            "📄 Short Note:\n",
            "Bigrams improved model accuracy compared to unigrams as they capture short contextual phrases like 'not good' or 'fire outbreak', which are common in disaster tweets.\n",
            "Trigrams showed minimal gain or slight overfitting due to feature sparsity.\n",
            "Hence, using bigrams gives better classification accuracy for disaster tweet detection.\n"
          ]
        }
      ],
      "source": [
        "# === Assignment: N-grams and Classification using Disaster Tweets Dataset ===\n",
        "\n",
        "import pandas as pd\n",
        "import numpy as np\n",
        "import re\n",
        "import nltk\n",
        "import matplotlib.pyplot as plt\n",
        "from nltk.corpus import stopwords\n",
        "from sklearn.model_selection import train_test_split\n",
        "from sklearn.feature_extraction.text import TfidfVectorizer\n",
        "from sklearn.metrics import accuracy_score\n",
        "from tensorflow.keras.models import Sequential\n",
        "from tensorflow.keras.layers import Dense, Dropout, Embedding, LSTM\n",
        "from tensorflow.keras.preprocessing.text import Tokenizer\n",
        "from tensorflow.keras.preprocessing.sequence import pad_sequences\n",
        "from tensorflow.keras.callbacks import EarlyStopping\n",
        "nltk.download('stopwords')\n",
        "\n",
        "# Step 1: Load dataset\n",
        "data = pd.read_csv(\"/content/tweets[1].csv\")[['text','target']]\n",
        "\n",
        "# Step 2: Preprocess text\n",
        "stop_words = set(stopwords.words('english'))\n",
        "def clean_text(text):\n",
        "    text = text.lower()\n",
        "    text = re.sub(r'http\\S+|www\\S+|https\\S+', '', text)\n",
        "    text = re.sub(r'[^a-z\\s]', '', text)\n",
        "    text = ' '.join([w for w in text.split() if w not in stop_words])\n",
        "    return text\n",
        "data['clean_text'] = data['text'].apply(clean_text)\n",
        "\n",
        "# Step 3: Split data\n",
        "X_train, X_test, y_train, y_test = train_test_split(\n",
        "    data['clean_text'], data['target'], test_size=0.2, random_state=42, stratify=data['target']\n",
        ")\n",
        "\n",
        "# Step 4: ANN using TF-IDF for Unigram, Bigram, Trigram\n",
        "from sklearn.linear_model import LogisticRegression\n",
        "def tfidf_ann(ngram):\n",
        "    tfidf = TfidfVectorizer(ngram_range=ngram, max_features=10000)\n",
        "    Xtr = tfidf.fit_transform(X_train)\n",
        "    Xte = tfidf.transform(X_test)\n",
        "    model = Sequential([\n",
        "        Dense(256, activation='relu', input_shape=(Xtr.shape[1],)),\n",
        "        Dropout(0.3),\n",
        "        Dense(64, activation='relu'),\n",
        "        Dropout(0.2),\n",
        "        Dense(1, activation='sigmoid')\n",
        "    ])\n",
        "    model.compile(optimizer='adam', loss='binary_crossentropy', metrics=['accuracy'])\n",
        "    model.fit(Xtr.toarray(), y_train, epochs=5, batch_size=64, validation_split=0.1, verbose=0)\n",
        "    ytr_pred = (model.predict(Xtr.toarray())>0.5).astype(int)\n",
        "    yte_pred = (model.predict(Xte.toarray())>0.5).astype(int)\n",
        "    return accuracy_score(y_train,ytr_pred), accuracy_score(y_test,yte_pred)\n",
        "\n",
        "ann_results = {}\n",
        "for name,ng in [(\"Unigram\",(1,1)),(\"Bigram\",(1,2)),(\"Trigram\",(1,3))]:\n",
        "    tr,te = tfidf_ann(ng)\n",
        "    ann_results[name]=(tr,te)\n",
        "    print(f\"{name} ANN -> Train Acc: {tr:.4f}, Test Acc: {te:.4f}\")\n",
        "\n",
        "# Step 5: LSTM model for Unigram, Bigram, Trigram\n",
        "def lstm_model(ngram):\n",
        "    tfidf = TfidfVectorizer(ngram_range=ngram, max_features=10000)\n",
        "    tfidf.fit(X_train)\n",
        "    tokenizer = Tokenizer(num_words=10000)\n",
        "    tokenizer.fit_on_texts(X_train)\n",
        "    seq_tr = tokenizer.texts_to_sequences(X_train)\n",
        "    seq_te = tokenizer.texts_to_sequences(X_test)\n",
        "    Xtr_pad = pad_sequences(seq_tr, maxlen=50)\n",
        "    Xte_pad = pad_sequences(seq_te, maxlen=50)\n",
        "    model = Sequential([\n",
        "        Embedding(10000, 64, input_length=50),\n",
        "        LSTM(64),\n",
        "        Dropout(0.3),\n",
        "        Dense(1, activation='sigmoid')\n",
        "    ])\n",
        "    model.compile(optimizer='adam', loss='binary_crossentropy', metrics=['accuracy'])\n",
        "    es = EarlyStopping(monitor='val_loss', patience=2, restore_best_weights=True)\n",
        "    model.fit(Xtr_pad, y_train, epochs=5, batch_size=64, validation_split=0.1, callbacks=[es], verbose=0)\n",
        "    tr_acc = model.evaluate(Xtr_pad, y_train, verbose=0)[1]\n",
        "    te_acc = model.evaluate(Xte_pad, y_test, verbose=0)[1]\n",
        "    return tr_acc, te_acc\n",
        "\n",
        "lstm_results = {}\n",
        "for name,ng in [(\"Unigram\",(1,1)),(\"Bigram\",(1,2)),(\"Trigram\",(1,3))]:\n",
        "    tr,te = lstm_model(ng)\n",
        "    lstm_results[name]=(tr,te)\n",
        "    print(f\"{name} LSTM -> Train Acc: {tr:.4f}, Test Acc: {te:.4f}\")\n",
        "\n",
        "# Step 6: Display comparison\n",
        "print(\"\\n=== ANN Accuracy ===\")\n",
        "for k,v in ann_results.items():\n",
        "    print(f\"{k}: Train={v[0]:.4f}, Test={v[1]:.4f}\")\n",
        "print(\"\\n=== LSTM Accuracy ===\")\n",
        "for k,v in lstm_results.items():\n",
        "    print(f\"{k}: Train={v[0]:.4f}, Test={v[1]:.4f}\")\n",
        "\n",
        "# Step 7: Conclusion\n",
        "print(\"\\n📄 Short Note:\")\n",
        "print(\"Bigrams improved model accuracy compared to unigrams as they capture short contextual phrases like 'not good' or 'fire outbreak', which are common in disaster tweets.\")\n",
        "print(\"Trigrams showed minimal gain or slight overfitting due to feature sparsity.\")\n",
        "print(\"Hence, using bigrams gives better classification accuracy for disaster tweet detection.\")\n"
      ]
    }
  ]
}