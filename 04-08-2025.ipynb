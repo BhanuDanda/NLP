{
  "nbformat": 4,
  "nbformat_minor": 0,
  "metadata": {
    "colab": {
      "provenance": [],
      "authorship_tag": "ABX9TyNOONCReYuPl8khvYRLhKHF",
      "include_colab_link": true
    },
    "kernelspec": {
      "name": "python3",
      "display_name": "Python 3"
    },
    "language_info": {
      "name": "python"
    }
  },
  "cells": [
    {
      "cell_type": "markdown",
      "metadata": {
        "id": "view-in-github",
        "colab_type": "text"
      },
      "source": [
        "<a href=\"https://colab.research.google.com/github/BhanuDanda/NLP/blob/main/04-08-2025.ipynb\" target=\"_parent\"><img src=\"https://colab.research.google.com/assets/colab-badge.svg\" alt=\"Open In Colab\"/></a>"
      ]
    },
    {
      "cell_type": "code",
      "execution_count": 8,
      "metadata": {
        "colab": {
          "base_uri": "https://localhost:8080/"
        },
        "id": "8VdxwiM2oETr",
        "outputId": "bd4e3fef-282f-4b06-f00c-1609d8fdf5c3"
      },
      "outputs": [
        {
          "output_type": "stream",
          "name": "stdout",
          "text": [
            "---- First 3 Resume Samples ----\n",
            "                                              Resume\n",
            "0  Experienced Software Engineer skilled in Pytho...\n",
            "1  Data Analyst with 3+ years of experience. Stro...\n",
            "2  Network Administrator - Expertise in Cisco rou...\n",
            "\n",
            "Checking noisy characters (\\n, •, symbols):\n",
            "['n', 'n', 'n', 'n', 'n', 'n', 'n', '•', '•']\n",
            "['n', 'n', 'n', 'n', 'n', 'n', '/']\n",
            "['n', 'n', '&', 'n', 'n', 'n']\n"
          ]
        }
      ],
      "source": [
        "import pandas as pd\n",
        "import re\n",
        "from nltk.corpus import stopwords\n",
        "from nltk.tokenize import word_tokenize\n",
        "from nltk.stem import PorterStemmer\n",
        "from collections import Counter\n",
        "import spacy\n",
        "\n",
        "data = {\n",
        "    \"Resume\": [\n",
        "        \"Experienced Software Engineer skilled in Python, Java, and cloud platforms.\\n Passionate about AI • ML • DL.\",\n",
        "        \"Data Analyst with 3+ years of experience. Strong skills in SQL, Excel, and visualization tools (Tableau/Power BI).\",\n",
        "        \"Network Administrator - Expertise in Cisco routers, firewalls, VPNs & security monitoring. Good troubleshooting skills.\"\n",
        "    ]\n",
        "}\n",
        "\n",
        "df = pd.DataFrame(data)\n",
        "\n",
        "print(\"---- First 3 Resume Samples ----\")\n",
        "print(df.head(3))\n",
        "print(\"\\nChecking noisy characters (\\\\n, •, symbols):\")\n",
        "for text in df[\"Resume\"]:\n",
        "    print(re.findall(r\"[\\\\n•@&/]\", text))\n",
        "\n",
        "\n"
      ]
    },
    {
      "cell_type": "code",
      "source": [
        "import nltk\n",
        "nltk.download(\"punkt\")\n",
        "nltk.download(\"punkt_tab\")\n",
        "nltk.download(\"stopwords\")\n",
        "\n",
        "stop_words = set(stopwords.words(\"english\"))\n",
        "ps = PorterStemmer()\n",
        "\n",
        "def preprocess_nltk(text):\n",
        "\n",
        "    text = re.sub(r\"[^a-zA-Z\\s]\", \"\", text)\n",
        "\n",
        "    tokens = word_tokenize(text.lower())\n",
        "\n",
        "    tokens = [w for w in tokens if w not in stop_words]\n",
        "\n",
        "    tokens = [ps.stem(w) for w in tokens]\n",
        "    return tokens\n",
        "\n",
        "df[\"NLTK_Tokens\"] = df[\"Resume\"].apply(preprocess_nltk)\n",
        "\n",
        "all_words = [word for tokens in df[\"NLTK_Tokens\"] for word in tokens]\n",
        "freq_nltk = Counter(all_words).most_common(10)\n",
        "\n",
        "print(\"\\n---- Top 10 Frequent Stemmed Words (NLTK) ----\")\n",
        "print(freq_nltk)\n"
      ],
      "metadata": {
        "colab": {
          "base_uri": "https://localhost:8080/"
        },
        "id": "V62cvVo-poz6",
        "outputId": "e8025ab3-f708-45e6-b38f-ed8aa9db8c8f"
      },
      "execution_count": 9,
      "outputs": [
        {
          "output_type": "stream",
          "name": "stdout",
          "text": [
            "\n",
            "---- Top 10 Frequent Stemmed Words (NLTK) ----\n",
            "[('skill', 3), ('experienc', 1), ('softwar', 1), ('engin', 1), ('python', 1), ('java', 1), ('cloud', 1), ('platform', 1), ('passion', 1), ('ai', 1)]\n"
          ]
        },
        {
          "output_type": "stream",
          "name": "stderr",
          "text": [
            "[nltk_data] Downloading package punkt to /root/nltk_data...\n",
            "[nltk_data]   Package punkt is already up-to-date!\n",
            "[nltk_data] Downloading package punkt_tab to /root/nltk_data...\n",
            "[nltk_data]   Package punkt_tab is already up-to-date!\n",
            "[nltk_data] Downloading package stopwords to /root/nltk_data...\n",
            "[nltk_data]   Package stopwords is already up-to-date!\n"
          ]
        }
      ]
    },
    {
      "cell_type": "code",
      "source": [
        "nlp = spacy.load(\"en_core_web_sm\")\n",
        "\n",
        "def preprocess_spacy(text):\n",
        "    doc = nlp(text.lower())\n",
        "\n",
        "    tokens = [token.lemma_ for token in doc\n",
        "              if token.is_alpha and token.pos_ in [\"NOUN\", \"VERB\"]]\n",
        "    return tokens\n",
        "\n",
        "df[\"Spacy_Tokens\"] = df[\"Resume\"].apply(preprocess_spacy)\n",
        "\n",
        "all_lemmas = [word for tokens in df[\"Spacy_Tokens\"] for word in tokens]\n",
        "freq_spacy = Counter(all_lemmas).most_common(10)\n",
        "\n",
        "print(\"\\n---- Top 10 Frequent Lemmas (spaCy) ----\")\n",
        "print(freq_spacy)\n",
        "\n",
        "df = pd.DataFrame(data)\n",
        "print(\"---- First 3 Resume Samples ----\")\n",
        "print(df.head(3))\n",
        "print(\"\\nChecking noisy characters (\\\\n, •, symbols):\")\n",
        "for text in df[\"Resume\"]:\n",
        "    print(re.findall(r\"[\\\\n•@&/]\", text))\n",
        ""
      ],
      "metadata": {
        "colab": {
          "base_uri": "https://localhost:8080/"
        },
        "id": "vFWYwCGlpzrG",
        "outputId": "7ef9bd84-ccfa-486e-f81c-415095872e78"
      },
      "execution_count": 10,
      "outputs": [
        {
          "output_type": "stream",
          "name": "stdout",
          "text": [
            "\n",
            "---- Top 10 Frequent Lemmas (spaCy) ----\n",
            "[('experience', 2), ('skill', 2), ('software', 1), ('engineer', 1), ('python', 1), ('cloud', 1), ('platform', 1), ('passionate', 1), ('ai', 1), ('dl', 1)]\n",
            "---- First 3 Resume Samples ----\n",
            "                                              Resume\n",
            "0  Experienced Software Engineer skilled in Pytho...\n",
            "1  Data Analyst with 3+ years of experience. Stro...\n",
            "2  Network Administrator - Expertise in Cisco rou...\n",
            "\n",
            "Checking noisy characters (\\n, •, symbols):\n",
            "['n', 'n', 'n', 'n', 'n', 'n', 'n', '•', '•']\n",
            "['n', 'n', 'n', 'n', 'n', 'n', '/']\n",
            "['n', 'n', '&', 'n', 'n', 'n']\n"
          ]
        }
      ]
    }
  ]
}