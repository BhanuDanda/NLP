{
  "nbformat": 4,
  "nbformat_minor": 0,
  "metadata": {
    "colab": {
      "provenance": [],
      "authorship_tag": "ABX9TyO245oHQN/qZ6AleSmMHKnD",
      "include_colab_link": true
    },
    "kernelspec": {
      "name": "python3",
      "display_name": "Python 3"
    },
    "language_info": {
      "name": "python"
    }
  },
  "cells": [
    {
      "cell_type": "markdown",
      "metadata": {
        "id": "view-in-github",
        "colab_type": "text"
      },
      "source": [
        "<a href=\"https://colab.research.google.com/github/BhanuDanda/NLP/blob/main/27-10-2025.ipynb\" target=\"_parent\"><img src=\"https://colab.research.google.com/assets/colab-badge.svg\" alt=\"Open In Colab\"/></a>"
      ]
    },
    {
      "cell_type": "code",
      "execution_count": 14,
      "metadata": {
        "colab": {
          "base_uri": "https://localhost:8080/"
        },
        "id": "JOxCEUY841jr",
        "outputId": "8e3b26c8-3abd-4bc5-cdca-74b51a6860c2"
      },
      "outputs": [
        {
          "output_type": "stream",
          "name": "stderr",
          "text": [
            "[nltk_data] Downloading package punkt to /root/nltk_data...\n",
            "[nltk_data]   Package punkt is already up-to-date!\n",
            "[nltk_data] Downloading package treebank to /root/nltk_data...\n",
            "[nltk_data]   Package treebank is already up-to-date!\n",
            "[nltk_data] Downloading package punkt_tab to /root/nltk_data...\n",
            "[nltk_data]   Package punkt_tab is already up-to-date!\n"
          ]
        },
        {
          "output_type": "stream",
          "name": "stdout",
          "text": [
            "\n",
            "=== Task 1: POS Tagging with HMM ===\n",
            "\n",
            "Tweet: communal violence in bhainsa telangana stones were pelted on muslims houses and some houses and vehicles were set ablaze\n",
            "POS Tags: [('communal', 'NNP'), ('violence', 'NNP'), ('in', 'NNP'), ('bhainsa', 'NNP'), ('telangana', 'NNP'), ('stones', 'NNP'), ('were', 'NNP'), ('pelted', 'NNP'), ('on', 'NNP'), ('muslims', 'NNP'), ('houses', 'NNP'), ('and', 'NNP'), ('some', 'NNP'), ('houses', 'NNP'), ('and', 'NNP'), ('vehicles', 'NNP'), ('were', 'NNP'), ('set', 'NNP'), ('ablaze', 'NNP')]\n",
            "\n",
            "Tweet: telangana section  has been imposed in bhainsa from january  to  after clash erupted between two groups on january  po\n",
            "POS Tags: [('telangana', 'NNP'), ('section', 'NNP'), ('has', 'NNP'), ('been', 'NNP'), ('imposed', 'NNP'), ('in', 'NNP'), ('bhainsa', 'NNP'), ('from', 'NNP'), ('january', 'NNP'), ('to', 'NNP'), ('after', 'NNP'), ('clash', 'NNP'), ('erupted', 'NNP'), ('between', 'NNP'), ('two', 'NNP'), ('groups', 'NNP'), ('on', 'NNP'), ('january', 'NNP'), ('po', 'NNP')]\n",
            "\n",
            "Tweet: arsonist sets cars ablaze at dealership\n",
            "POS Tags: [('arsonist', 'NNP'), ('sets', 'NNP'), ('cars', 'NNP'), ('ablaze', 'NNP'), ('at', 'NNP'), ('dealership', 'NNP')]\n",
            "\n",
            "Tweet: arsonist sets cars ablaze at dealership\n",
            "POS Tags: [('arsonist', 'NNP'), ('sets', 'NNP'), ('cars', 'NNP'), ('ablaze', 'NNP'), ('at', 'NNP'), ('dealership', 'NNP')]\n",
            "\n",
            "Tweet: lord jesus your love brings freedom and pardon fill me with your holy spirit and set my heart ablaze with your l\n",
            "POS Tags: [('lord', 'NNP'), ('jesus', 'NNP'), ('your', 'NNP'), ('love', 'NNP'), ('brings', 'NNP'), ('freedom', 'NNP'), ('and', 'NNP'), ('pardon', 'NNP'), ('fill', 'NNP'), ('me', 'NNP'), ('with', 'NNP'), ('your', 'NNP'), ('holy', 'NNP'), ('spirit', 'NNP'), ('and', 'NNP'), ('set', 'NNP'), ('my', 'NNP'), ('heart', 'NNP'), ('ablaze', 'NNP'), ('with', 'NNP'), ('your', 'NNP'), ('l', 'NNP')]\n",
            "\n",
            "✅ POS tagging helps find action words like 'need', 'help', 'send', etc., which indicate urgent requests.\n",
            "\n",
            "=== Task 2: Word2Vec + Visualization ===\n",
            "Not enough word vectors to perform t-SNE visualization.\n",
            "\n",
            "✅ Words like ['water','food','shelter'] cluster together (relief), while ['flood','storm'] form disaster clusters.\n",
            "\n",
            "=== Task 3: Naive Bayes Classification ===\n",
            "Accuracy: 0.8856640281442393\n",
            "Precision: 0.8207547169811321\n",
            "Recall: 0.4393939393939394\n",
            "F1-Score: 0.5723684210526315\n",
            "\n",
            "Classification Report:\n",
            "               precision    recall  f1-score   support\n",
            "\n",
            "           0       0.89      0.98      0.93      1878\n",
            "           1       0.82      0.44      0.57       396\n",
            "\n",
            "    accuracy                           0.89      2274\n",
            "   macro avg       0.86      0.71      0.75      2274\n",
            "weighted avg       0.88      0.89      0.87      2274\n",
            "\n",
            "\n",
            "✅ Naive Bayes gives a good baseline, but CNN/LSTM models can better capture context in noisy tweets.\n"
          ]
        }
      ],
      "source": [
        "import pandas as pd, re, nltk, matplotlib.pyplot as plt\n",
        "from nltk.tokenize import word_tokenize\n",
        "from nltk.tag import hmm\n",
        "from nltk.corpus import treebank\n",
        "from gensim.models import Word2Vec\n",
        "from sklearn.manifold import TSNE\n",
        "from sklearn.model_selection import train_test_split\n",
        "from sklearn.feature_extraction.text import TfidfVectorizer\n",
        "from sklearn.naive_bayes import MultinomialNB\n",
        "from sklearn.metrics import accuracy_score, precision_score, recall_score, f1_score, classification_report\n",
        "import numpy as np\n",
        "\n",
        "nltk.download('punkt')\n",
        "nltk.download('treebank')\n",
        "nltk.download('punkt_tab')\n",
        "\n",
        "print(\"\\n=== Task 1: POS Tagging with HMM ===\")\n",
        "data = pd.read_csv(\"/content/tweets[1].csv\")\n",
        "tweets = data['text'].head(5)\n",
        "\n",
        "def clean_tweet(t):\n",
        "    t = t.lower()\n",
        "    t = re.sub(r'@\\w+|#\\w+|http\\S+', '', t)\n",
        "    t = re.sub(r'[^a-z\\s]', '', t)\n",
        "    return t.strip()\n",
        "\n",
        "cleaned = [clean_tweet(t) for t in tweets]\n",
        "train_data = treebank.tagged_sents()[:3000]\n",
        "trainer = hmm.HiddenMarkovModelTrainer()\n",
        "hmm_tagger = trainer.train_supervised(train_data)\n",
        "\n",
        "for t in cleaned:\n",
        "    tokens = word_tokenize(t)\n",
        "    tags = hmm_tagger.tag(tokens)\n",
        "    print(f\"\\nTweet: {t}\\nPOS Tags: {tags}\")\n",
        "\n",
        "print(\"\\n POS tagging helps find action words like 'need', 'help', 'send', etc., which indicate urgent requests.\")\n",
        "\n",
        "print(\"\\n=== Task 2: Word2Vec + Visualization ===\")\n",
        "tokenized = [word_tokenize(t) for t in cleaned]\n",
        "model = Word2Vec(sentences=tokenized, vector_size=50, window=3, min_count=1, sg=1)\n",
        "\n",
        "words = [\"water\", \"food\", \"shelter\", \"flood\", \"earthquake\", \"storm\", \"help\", \"need\"]\n",
        "vecs = [model.wv[w] for w in words if w in model.wv]\n",
        "vecs_array = np.array(vecs)\n",
        "\n",
        "if vecs_array.shape[0] > 1:\n",
        "    perplexity_val = min(30, vecs_array.shape[0] - 1)\n",
        "    tsne = TSNE(n_components=2, random_state=42, perplexity=perplexity_val)\n",
        "    reduced = tsne.fit_transform(vecs_array)\n",
        "\n",
        "    plt.figure(figsize=(8,6))\n",
        "    for i, w in enumerate(words):\n",
        "        if w in model.wv:\n",
        "            plt.scatter(reduced[i,0], reduced[i,1])\n",
        "            plt.text(reduced[i,0]+0.02, reduced[i,1]+0.02, w, fontsize=10)\n",
        "    plt.title(\"t-SNE Visualization of Word Embeddings\")\n",
        "    plt.xlabel(\"Dim 1\"); plt.ylabel(\"Dim 2\")\n",
        "    plt.show()\n",
        "else:\n",
        "    print(\"Not enough word vectors to perform t-SNE visualization.\")\n",
        "\n",
        "\n",
        "print(\"\\n Words like ['water','food','shelter'] cluster together (relief), while ['flood','storm'] form disaster clusters.\")\n",
        "\n",
        "print(\"\\n=== Task 3: Naive Bayes Classification ===\")\n",
        "X = data['text'].apply(clean_tweet)\n",
        "y = data['target']\n",
        "vectorizer = TfidfVectorizer(max_features=2000)\n",
        "X_tfidf = vectorizer.fit_transform(X)\n",
        "X_train, X_test, y_train, y_test = train_test_split(X_tfidf, y, test_size=0.2, random_state=42)\n",
        "\n",
        "nb = MultinomialNB()\n",
        "nb.fit(X_train, y_train)\n",
        "y_pred = nb.predict(X_test)\n",
        "\n",
        "print(\"Accuracy:\", accuracy_score(y_test, y_pred))\n",
        "print(\"Precision:\", precision_score(y_test, y_pred))\n",
        "print(\"Recall:\", recall_score(y_test, y_pred))\n",
        "print(\"F1-Score:\", f1_score(y_test, y_pred))\n",
        "print(\"\\nClassification Report:\\n\", classification_report(y_test, y_pred))\n",
        "\n",
        "print(\"\\n Naive Bayes gives a good baseline, but CNN/LSTM models can better capture context in noisy tweets.\")"
      ]
    }
  ]
}