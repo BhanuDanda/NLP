{
  "nbformat": 4,
  "nbformat_minor": 0,
  "metadata": {
    "colab": {
      "provenance": [],
      "authorship_tag": "ABX9TyNxZiWccw47S5YKR9ixw2+P",
      "include_colab_link": true
    },
    "kernelspec": {
      "name": "python3",
      "display_name": "Python 3"
    },
    "language_info": {
      "name": "python"
    }
  },
  "cells": [
    {
      "cell_type": "markdown",
      "metadata": {
        "id": "view-in-github",
        "colab_type": "text"
      },
      "source": [
        "<a href=\"https://colab.research.google.com/github/BhanuDanda/NLP/blob/main/01-09-2025.ipynb\" target=\"_parent\"><img src=\"https://colab.research.google.com/assets/colab-badge.svg\" alt=\"Open In Colab\"/></a>"
      ]
    },
    {
      "cell_type": "code",
      "execution_count": 15,
      "metadata": {
        "colab": {
          "base_uri": "https://localhost:8080/"
        },
        "id": "RofxJtXYf2ty",
        "outputId": "06c7de4c-8f85-42b3-f888-6c7470b6ec54"
      },
      "outputs": [
        {
          "output_type": "stream",
          "name": "stdout",
          "text": [
            "   id keyword        location  \\\n",
            "0   0  ablaze             NaN   \n",
            "1   1  ablaze             NaN   \n",
            "2   2  ablaze   New York City   \n",
            "3   3  ablaze  Morgantown, WV   \n",
            "4   4  ablaze             NaN   \n",
            "\n",
            "                                                text  target  \n",
            "0  Communal violence in Bhainsa, Telangana. \"Ston...       1  \n",
            "1  Telangana: Section 144 has been imposed in Bha...       1  \n",
            "2  Arsonist sets cars ablaze at dealership https:...       1  \n",
            "3  Arsonist sets cars ablaze at dealership https:...       1  \n",
            "4  \"Lord Jesus, your love brings freedom and pard...       0  \n"
          ]
        }
      ],
      "source": [
        "import pandas as pd\n",
        "df = pd.read_csv(\"/content/tweets.csv\")\n",
        "print(df.head())\n"
      ]
    },
    {
      "cell_type": "code",
      "source": [
        "import re\n",
        "import string\n",
        "\n",
        "def clean_text(text):\n",
        "    text = str(text).lower()\n",
        "    text = re.sub(r\"http\\\\S+|www\\\\S+\", \"\", text)\n",
        "    text = text.translate(str.maketrans(\"\", \"\", string.punctuation))\n",
        "    return text\n",
        "\n",
        "df[\"clean_text\"] = df[\"text\"].apply(clean_text)\n",
        "print(df[\"clean_text\"].head())\n"
      ],
      "metadata": {
        "colab": {
          "base_uri": "https://localhost:8080/"
        },
        "id": "fvG4y6kOh2z1",
        "outputId": "4089b8c5-04f7-4d0a-b6bd-063176764336"
      },
      "execution_count": 14,
      "outputs": [
        {
          "output_type": "stream",
          "name": "stdout",
          "text": [
            "0    communal violence in bhainsa telangana stones ...\n",
            "1    telangana section 144 has been imposed in bhai...\n",
            "2    arsonist sets cars ablaze at dealership httpst...\n",
            "3    arsonist sets cars ablaze at dealership httpst...\n",
            "4    lord jesus your love brings freedom and pardon...\n",
            "Name: clean_text, dtype: object\n"
          ]
        }
      ]
    },
    {
      "cell_type": "code",
      "source": [
        "from sklearn.feature_extraction.text import TfidfVectorizer\n",
        "\n",
        "df[\"clean_text\"] = df[\"clean_text\"].fillna(\"\")\n",
        "\n",
        "vectorizer = TfidfVectorizer(stop_words=\"english\", max_features=5000)\n",
        "X = vectorizer.fit_transform(df[\"clean_text\"].astype(str))\n",
        "y = df[\"target\"]\n",
        "\n",
        "print(\"TF-IDF shape:\", X.shape)\n"
      ],
      "metadata": {
        "colab": {
          "base_uri": "https://localhost:8080/"
        },
        "id": "_64J1j5Er7MD",
        "outputId": "17d25e50-7f24-4308-af87-f65ebb83fa9a"
      },
      "execution_count": 19,
      "outputs": [
        {
          "output_type": "stream",
          "name": "stdout",
          "text": [
            "TF-IDF shape: (11370, 5000)\n"
          ]
        }
      ]
    },
    {
      "cell_type": "code",
      "source": [
        "from sklearn.model_selection import train_test_split\n",
        "\n",
        "X_train, X_test, y_train, y_test = train_test_split(\n",
        "    X, y, test_size=0.2, random_state=42\n",
        ")\n",
        "\n",
        "print(\"Train shape:\", X_train.shape)\n",
        "print( \"Test shape:\", X_test.shape)"
      ],
      "metadata": {
        "colab": {
          "base_uri": "https://localhost:8080/"
        },
        "id": "vBYk-v6Lsu6o",
        "outputId": "5cd988f1-7a07-445f-911b-d9207d41f023"
      },
      "execution_count": 21,
      "outputs": [
        {
          "output_type": "stream",
          "name": "stdout",
          "text": [
            "Train shape: (9096, 5000)\n",
            "Test shape: (2274, 5000)\n"
          ]
        }
      ]
    },
    {
      "cell_type": "code",
      "source": [
        "from sklearn.linear_model import LogisticRegression\n",
        "from sklearn.svm import LinearSVC\n",
        "from sklearn.ensemble import RandomForestClassifier\n",
        "from sklearn.metrics import accuracy_score, precision_score, recall_score, f1_score, classification_report\n",
        "\n",
        "models = {\n",
        "    \"Logistic Regression\": LogisticRegression(max_iter=1000),\n",
        "    \"SVM\": LinearSVC(),\n",
        "    \"Random Forest\": RandomForestClassifier(n_estimators=200, random_state=42)\n",
        "}\n",
        "\n",
        "for name, model in models.items():\n",
        "    model.fit(X_train, y_train)\n",
        "    preds = model.predict(X_test)\n",
        "    print(f\"\\n{name}\")\n",
        "    print(\"Accuracy :\", round(accuracy_score(y_test, preds), 3))\n",
        "    print(\"Precision:\", round(precision_score(y_test, preds), 3))\n",
        "    print(\"Recall   :\", round(recall_score(y_test, preds), 3))\n",
        "    print(\"F1 Score :\", round(f1_score(y_test, preds), 3))\n",
        "    print(classification_report(y_test, preds, digits=3))\n"
      ],
      "metadata": {
        "colab": {
          "base_uri": "https://localhost:8080/"
        },
        "id": "INTVNAk4s5P3",
        "outputId": "17b6c472-93cd-4ba0-8123-f7ac06125123"
      },
      "execution_count": 22,
      "outputs": [
        {
          "output_type": "stream",
          "name": "stdout",
          "text": [
            "\n",
            "Logistic Regression\n",
            "Accuracy : 0.885\n",
            "Precision: 0.894\n",
            "Recall   : 0.384\n",
            "F1 Score : 0.537\n",
            "              precision    recall  f1-score   support\n",
            "\n",
            "           0      0.884     0.990     0.934      1878\n",
            "           1      0.894     0.384     0.537       396\n",
            "\n",
            "    accuracy                          0.885      2274\n",
            "   macro avg      0.889     0.687     0.736      2274\n",
            "weighted avg      0.886     0.885     0.865      2274\n",
            "\n",
            "\n",
            "SVM\n",
            "Accuracy : 0.895\n",
            "Precision: 0.751\n",
            "Recall   : 0.593\n",
            "F1 Score : 0.663\n",
            "              precision    recall  f1-score   support\n",
            "\n",
            "           0      0.918     0.958     0.938      1878\n",
            "           1      0.751     0.593     0.663       396\n",
            "\n",
            "    accuracy                          0.895      2274\n",
            "   macro avg      0.834     0.776     0.800      2274\n",
            "weighted avg      0.889     0.895     0.890      2274\n",
            "\n",
            "\n",
            "Random Forest\n",
            "Accuracy : 0.892\n",
            "Precision: 0.802\n",
            "Recall   : 0.503\n",
            "F1 Score : 0.618\n",
            "              precision    recall  f1-score   support\n",
            "\n",
            "           0      0.903     0.974     0.937      1878\n",
            "           1      0.802     0.503     0.618       396\n",
            "\n",
            "    accuracy                          0.892      2274\n",
            "   macro avg      0.853     0.738     0.778      2274\n",
            "weighted avg      0.885     0.892     0.881      2274\n",
            "\n"
          ]
        }
      ]
    },
    {
      "cell_type": "code",
      "source": [
        "feature_names = vectorizer.get_feature_names_out()\n",
        "\n",
        "coefs = models[\"Logistic Regression\"].coef_[0]\n",
        "\n",
        "top10_idx = coefs.argsort()[-10:][::-1]\n",
        "\n",
        "print(\"\\nTop 10 words indicating disaster tweets:\")\n",
        "for i in top10_idx:\n",
        "    print(feature_names[i], \"->\", round(coefs[i], 4))\n"
      ],
      "metadata": {
        "colab": {
          "base_uri": "https://localhost:8080/"
        },
        "id": "FqpGZaShtGJD",
        "outputId": "8b3f2500-a8f3-49e9-85df-590016b92b05"
      },
      "execution_count": 23,
      "outputs": [
        {
          "output_type": "stream",
          "name": "stdout",
          "text": [
            "\n",
            "Top 10 words indicating disaster tweets:\n",
            "thunderstorm -> 3.9691\n",
            "train -> 3.1854\n",
            "killed -> 3.167\n",
            "collision -> 3.0401\n",
            "earthquake -> 2.7903\n",
            "severe -> 2.7067\n",
            "died -> 2.6482\n",
            "warning -> 2.5902\n",
            "sinkhole -> 2.5899\n",
            "windstorm -> 2.5896\n"
          ]
        }
      ]
    }
  ]
}